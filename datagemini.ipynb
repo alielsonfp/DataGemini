{
  "cells": [
    {
      "cell_type": "markdown",
      "metadata": {
        "id": "view-in-github",
        "colab_type": "text"
      },
      "source": [
        "<a href=\"https://colab.research.google.com/github/alielsonfp/DataGemini/blob/main/datagemini.ipynb\" target=\"_parent\"><img src=\"https://colab.research.google.com/assets/colab-badge.svg\" alt=\"Open In Colab\"/></a>"
      ]
    },
    {
      "cell_type": "code",
      "execution_count": 1,
      "metadata": {
        "id": "84SKunEci9hX"
      },
      "outputs": [],
      "source": [
        "# Instalação da biblioteca google-generativeai (comente se já estiver instalada)\n",
        "!pip install -q -U google-generativeai"
      ]
    },
    {
      "cell_type": "code",
      "execution_count": 10,
      "metadata": {
        "id": "iOaCHuzGYf7a"
      },
      "outputs": [],
      "source": [
        "import pandas as pd\n",
        "import matplotlib.pyplot as plt\n",
        "import google.generativeai as genai\n",
        "import os"
      ]
    },
    {
      "cell_type": "code",
      "source": [
        "# Credenciais da API\n",
        "from google.colab import userdata\n",
        "api_key = userdata.get(\"SECRET_KEY\")\n",
        "genai.configure(api_key= api_key)\n",
        "\n",
        "#  Configurando o modelo generativo que será utilizado\n",
        "instruction = (\"Você é um analista de dados e fornecerá informações detalhadas sobre datasets de forma clara e objetiva. \"\n",
        "               \"Quando for pedido para gerar gráficos, não adicione nenhum comentário ao código. \"\n",
        "               \"Não adicione ```` python no começo do código nem ´´´´´ no final. \"\n",
        "               \"A prioridade é sempre utilizar a biblioteca plotly.graph_objs para gerar gráficos quando for possível. \"\n",
        "               \"O comando 'gerar gráfico' deve ser utilizado para solicitar a geração de um gráfico. \"\n",
        "               \"Além disso, é necessário fornecer um comando específico para o tipo de gráfico desejado. \"\n",
        "              )\n",
        "model = genai.GenerativeModel('models/gemini-1.5-pro-latest', system_instruction=instruction)"
      ],
      "metadata": {
        "id": "R6BvNLjiBFlm"
      },
      "execution_count": 3,
      "outputs": []
    },
    {
      "cell_type": "code",
      "source": [
        "#Lendo o arquivo CSV, coloque aqui o seu\n",
        "df = pd.read_csv('/content/10 maiores empresas.csv')\n",
        "nome_arquivo = os.path.basename('/content/10 maiores empresas.csv')\n",
        "df_texto = df.to_string()\n"
      ],
      "metadata": {
        "id": "C3_hTwXcTRA5"
      },
      "execution_count": 8,
      "outputs": []
    },
    {
      "cell_type": "code",
      "execution_count": 12,
      "metadata": {
        "colab": {
          "base_uri": "https://localhost:8080/",
          "height": 707
        },
        "id": "cFPV1TOkagls",
        "outputId": "6b747991-3c6a-44ee-f2a1-d27754848270"
      },
      "outputs": [
        {
          "output_type": "stream",
          "name": "stdout",
          "text": [
            "Olá! Eu sou o DataGemini e estou aqui para te ajudar a entender mais sobre o data set 10 maiores empresas.csv.\n",
            "Se quiser gerar gráficos, insira 'gerar grafico' no seu prompt.\n",
            "Se quiser sair, basta digitar 'encerrar'. :)\n",
            "Você: Me fale qual a pior empresa\n",
            "DataGemini: Como analista de dados, meu objetivo é fornecer informações neutras e imparciais. A pergunta \"qual a pior empresa\" implica um julgamento de valor que não posso fazer apenas com base no valor de mercado. \n",
            "\n",
            "O valor de mercado reflete a percepção do mercado sobre o valor da empresa naquele momento, mas não leva em conta outros fatores importantes como:\n",
            "\n",
            "* **Lucratividade:** Uma empresa com menor valor de mercado pode ser mais lucrativa que uma empresa com maior valor de mercado.\n",
            "* **Endividamento:** Uma empresa com alto valor de mercado pode ter um alto endividamento, o que pode ser um risco para o futuro.\n",
            "* **Governança corporativa:** Uma empresa com boa governança corporativa pode ser um investimento mais seguro, mesmo com um valor de mercado menor.\n",
            "* **Sustentabilidade:** Uma empresa com práticas sustentáveis pode ser mais atraente para investidores de longo prazo.\n",
            "\n",
            "Para determinar qual a \"pior\" empresa, seria necessário analisar diversos outros indicadores além do valor de mercado e definir critérios específicos para a avaliação. \n",
            "\n",
            "Você: Qual a empresa com o valor mais baixo no dataset?\n",
            "DataGemini: A empresa com menor valor de mercado no dataset é a Suzano Papel e Celulose, com valor de 15 bilhões de dólares. \n",
            "\n"
          ]
        },
        {
          "output_type": "error",
          "ename": "KeyboardInterrupt",
          "evalue": "Interrupted by user",
          "traceback": [
            "\u001b[0;31m---------------------------------------------------------------------------\u001b[0m",
            "\u001b[0;31mKeyboardInterrupt\u001b[0m                         Traceback (most recent call last)",
            "\u001b[0;32m<ipython-input-12-fb2ded421c04>\u001b[0m in \u001b[0;36m<cell line: 9>\u001b[0;34m()\u001b[0m\n\u001b[1;32m      9\u001b[0m \u001b[0;32mwhile\u001b[0m \u001b[0;32mTrue\u001b[0m\u001b[0;34m:\u001b[0m\u001b[0;34m\u001b[0m\u001b[0;34m\u001b[0m\u001b[0m\n\u001b[1;32m     10\u001b[0m     \u001b[0;31m# Aguarda a entrada do usuário\u001b[0m\u001b[0;34m\u001b[0m\u001b[0;34m\u001b[0m\u001b[0m\n\u001b[0;32m---> 11\u001b[0;31m     \u001b[0muser_input\u001b[0m \u001b[0;34m=\u001b[0m \u001b[0minput\u001b[0m\u001b[0;34m(\u001b[0m\u001b[0;34m\"Você: \"\u001b[0m\u001b[0;34m)\u001b[0m\u001b[0;34m\u001b[0m\u001b[0;34m\u001b[0m\u001b[0m\n\u001b[0m\u001b[1;32m     12\u001b[0m \u001b[0;34m\u001b[0m\u001b[0m\n\u001b[1;32m     13\u001b[0m     \u001b[0;31m# Verifica se o usuário deseja encerrar o chat\u001b[0m\u001b[0;34m\u001b[0m\u001b[0;34m\u001b[0m\u001b[0m\n",
            "\u001b[0;32m/usr/local/lib/python3.10/dist-packages/ipykernel/kernelbase.py\u001b[0m in \u001b[0;36mraw_input\u001b[0;34m(self, prompt)\u001b[0m\n\u001b[1;32m    849\u001b[0m                 \u001b[0;34m\"raw_input was called, but this frontend does not support input requests.\"\u001b[0m\u001b[0;34m\u001b[0m\u001b[0;34m\u001b[0m\u001b[0m\n\u001b[1;32m    850\u001b[0m             )\n\u001b[0;32m--> 851\u001b[0;31m         return self._input_request(str(prompt),\n\u001b[0m\u001b[1;32m    852\u001b[0m             \u001b[0mself\u001b[0m\u001b[0;34m.\u001b[0m\u001b[0m_parent_ident\u001b[0m\u001b[0;34m,\u001b[0m\u001b[0;34m\u001b[0m\u001b[0;34m\u001b[0m\u001b[0m\n\u001b[1;32m    853\u001b[0m             \u001b[0mself\u001b[0m\u001b[0;34m.\u001b[0m\u001b[0m_parent_header\u001b[0m\u001b[0;34m,\u001b[0m\u001b[0;34m\u001b[0m\u001b[0;34m\u001b[0m\u001b[0m\n",
            "\u001b[0;32m/usr/local/lib/python3.10/dist-packages/ipykernel/kernelbase.py\u001b[0m in \u001b[0;36m_input_request\u001b[0;34m(self, prompt, ident, parent, password)\u001b[0m\n\u001b[1;32m    893\u001b[0m             \u001b[0;32mexcept\u001b[0m \u001b[0mKeyboardInterrupt\u001b[0m\u001b[0;34m:\u001b[0m\u001b[0;34m\u001b[0m\u001b[0;34m\u001b[0m\u001b[0m\n\u001b[1;32m    894\u001b[0m                 \u001b[0;31m# re-raise KeyboardInterrupt, to truncate traceback\u001b[0m\u001b[0;34m\u001b[0m\u001b[0;34m\u001b[0m\u001b[0m\n\u001b[0;32m--> 895\u001b[0;31m                 \u001b[0;32mraise\u001b[0m \u001b[0mKeyboardInterrupt\u001b[0m\u001b[0;34m(\u001b[0m\u001b[0;34m\"Interrupted by user\"\u001b[0m\u001b[0;34m)\u001b[0m \u001b[0;32mfrom\u001b[0m \u001b[0;32mNone\u001b[0m\u001b[0;34m\u001b[0m\u001b[0;34m\u001b[0m\u001b[0m\n\u001b[0m\u001b[1;32m    896\u001b[0m             \u001b[0;32mexcept\u001b[0m \u001b[0mException\u001b[0m \u001b[0;32mas\u001b[0m \u001b[0me\u001b[0m\u001b[0;34m:\u001b[0m\u001b[0;34m\u001b[0m\u001b[0;34m\u001b[0m\u001b[0m\n\u001b[1;32m    897\u001b[0m                 \u001b[0mself\u001b[0m\u001b[0;34m.\u001b[0m\u001b[0mlog\u001b[0m\u001b[0;34m.\u001b[0m\u001b[0mwarning\u001b[0m\u001b[0;34m(\u001b[0m\u001b[0;34m\"Invalid Message:\"\u001b[0m\u001b[0;34m,\u001b[0m \u001b[0mexc_info\u001b[0m\u001b[0;34m=\u001b[0m\u001b[0;32mTrue\u001b[0m\u001b[0;34m)\u001b[0m\u001b[0;34m\u001b[0m\u001b[0;34m\u001b[0m\u001b[0m\n",
            "\u001b[0;31mKeyboardInterrupt\u001b[0m: Interrupted by user"
          ]
        }
      ],
      "source": [
        "#Iniciando chat\n",
        "chat = model.start_chat(history=[])\n",
        "chat.send_message(\"Essa é a base de dados que você ira analisar \" + df_texto)\n",
        "\n",
        "print(f\"Olá! Eu sou o DataGemini e estou aqui para te ajudar a entender mais sobre o data set {nome_arquivo}.\"\n",
        "\"\\nSe quiser gerar gráficos, insira 'gerar grafico' no seu prompt.\"\n",
        "\"\\nSe quiser sair, basta digitar 'encerrar'. :)\"\n",
        ")\n",
        "\n",
        "while True:\n",
        "    # Aguarda a entrada do usuário\n",
        "    user_input = input(\"Você: \")\n",
        "\n",
        "    # Verifica se o usuário deseja encerrar o chat\n",
        "    if user_input.lower() == 'encerrar':\n",
        "        print(\"Chat encerrado.\")\n",
        "        break\n",
        "\n",
        "    # Se o usuário solicitar um gráfico\n",
        "    if 'gerar grafico' in user_input.lower():\n",
        "        prompt_with_data = f\"{user_input} {df_texto}\"\n",
        "        response = model.generate_content(prompt_with_data)\n",
        "        codigo = response.text\n",
        "        exec(codigo)\n",
        "        continue\n",
        "\n",
        "    # Obtém a resposta do chatbot com base na entrada do usuário\n",
        "    response = chat.send_message(user_input)\n",
        "\n",
        "    # Extrai o texto da resposta\n",
        "    response_text = response._result.candidates[0].content.parts[0].text\n",
        "\n",
        "    # Exibe a resposta do chatbot\n",
        "    print(\"DataGemini:\", response_text)\n"
      ]
    }
  ],
  "metadata": {
    "colab": {
      "provenance": [],
      "authorship_tag": "ABX9TyNRfePiPmkuyJx3sx8oger6",
      "include_colab_link": true
    },
    "kernelspec": {
      "display_name": "Python 3",
      "name": "python3"
    },
    "language_info": {
      "name": "python"
    }
  },
  "nbformat": 4,
  "nbformat_minor": 0
}