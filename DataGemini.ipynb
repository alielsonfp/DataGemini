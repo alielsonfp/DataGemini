{
  "nbformat": 4,
  "nbformat_minor": 0,
  "metadata": {
    "colab": {
      "provenance": [],
      "authorship_tag": "ABX9TyNJPLx42eH3tnVOLwdt0YXT",
      "include_colab_link": true
    },
    "kernelspec": {
      "name": "python3",
      "display_name": "Python 3"
    },
    "language_info": {
      "name": "python"
    }
  },
  "cells": [
    {
      "cell_type": "markdown",
      "metadata": {
        "id": "view-in-github",
        "colab_type": "text"
      },
      "source": [
        "<a href=\"https://colab.research.google.com/github/alielsonfp/DataGemini/blob/main/DataGemini.ipynb\" target=\"_parent\"><img src=\"https://colab.research.google.com/assets/colab-badge.svg\" alt=\"Open In Colab\"/></a>"
      ]
    },
    {
      "cell_type": "code",
      "execution_count": 1,
      "metadata": {
        "id": "RObM8PwRr-cO"
      },
      "outputs": [],
      "source": [
        "# Instalação da biblioteca google-generativeai (comente se já estiver instalada)\n",
        "!pip install -q -U google-generativeai"
      ]
    },
    {
      "cell_type": "code",
      "source": [
        "# Importações\n",
        "import pandas as pd\n",
        "import google.generativeai as genai\n",
        "from IPython.display import display\n",
        "from google.colab import userdata"
      ],
      "metadata": {
        "id": "u_8FdHHCsIC8"
      },
      "execution_count": 2,
      "outputs": []
    },
    {
      "cell_type": "code",
      "source": [
        "from google.colab import userdata\n",
        "api_key = userdata.get(\"SECRET_KEY\")\n",
        "genai.configure(api_key=api_key)\n",
        "\n",
        "# Configurando o modelo generativo que será utilizado e importando o csv\n",
        "model = genai.GenerativeModel('models/gemini-1.5-pro-latest')\n",
        "\n",
        "df = pd.read_csv('/content/10 maiores empresas.csv')\n",
        "df_texto = df.to_string()\n"
      ],
      "metadata": {
        "id": "cAK80rhrsKcM"
      },
      "execution_count": 7,
      "outputs": []
    },
    {
      "cell_type": "code",
      "source": [
        "def conversar_sobre_dataframe():\n",
        "    pergunta = input(\"Digite sua pergunta sobre o DataFrame: \")\n",
        "    response = model.generate_content(f'{pergunta} {df_texto}')\n",
        "    print(response.text)\n",
        "\n",
        "# Função para fazer um gráfico\n",
        "def fazer_grafico():\n",
        "    pergunta = input(\"Digite sua solicitação para o gráfico: \")\n",
        "    response = model.generate_content(f'{pergunta} {df_texto}')\n",
        "    codigo = response.text\n",
        "    grafico = codigo.split('python')[1].strip().rstrip('`')\n",
        "    exec(grafico)\n",
        "\n",
        "# Loop de opções\n",
        "while True:\n",
        "    print(\"Escolha uma opção:\")\n",
        "    print(\"1. Conversar sobre o DataFrame\")\n",
        "    print(\"2. Fazer um gráfico\")\n",
        "    print(\"3. Sair\")\n",
        "\n",
        "    opcao = input(\"Digite o número da opção desejada: \")\n",
        "\n",
        "    if opcao == '1':\n",
        "        conversar_sobre_dataframe()\n",
        "    elif opcao == '2':\n",
        "        fazer_grafico()\n",
        "    elif opcao == '3':\n",
        "        print(\"Saindo...\")\n",
        "        break\n",
        "    else:\n",
        "        print(\"Opção inválida. Por favor, escolha novamente.\")"
      ],
      "metadata": {
        "id": "nXFvz47TsP6Y"
      },
      "execution_count": null,
      "outputs": []
    }
  ]
}